{
 "cells": [
  {
   "cell_type": "markdown",
   "id": "49867bda",
   "metadata": {},
   "source": [
    "# 3. Dashboard"
   ]
  },
  {
   "cell_type": "code",
   "execution_count": 1,
   "id": "82794b27",
   "metadata": {},
   "outputs": [],
   "source": [
    "import pandas as pd\n",
    "import numpy as np\n",
    "import plotly.graph_objects as go\n",
    "from IPython.display import Image\n",
    "from dash import Dash, html, dcc, callback, Output, Input"
   ]
  },
  {
   "cell_type": "markdown",
   "id": "f392dbd2",
   "metadata": {},
   "source": [
    "# Reading in the Data"
   ]
  },
  {
   "cell_type": "code",
   "execution_count": 2,
   "id": "aa511197",
   "metadata": {},
   "outputs": [
    {
     "data": {
      "text/html": [
       "<div>\n",
       "<style scoped>\n",
       "    .dataframe tbody tr th:only-of-type {\n",
       "        vertical-align: middle;\n",
       "    }\n",
       "\n",
       "    .dataframe tbody tr th {\n",
       "        vertical-align: top;\n",
       "    }\n",
       "\n",
       "    .dataframe thead th {\n",
       "        text-align: right;\n",
       "    }\n",
       "</style>\n",
       "<table border=\"1\" class=\"dataframe\">\n",
       "  <thead>\n",
       "    <tr style=\"text-align: right;\">\n",
       "      <th></th>\n",
       "      <th>Unnamed: 0</th>\n",
       "      <th>incident_id</th>\n",
       "      <th>date</th>\n",
       "      <th>year</th>\n",
       "      <th>city</th>\n",
       "      <th>county</th>\n",
       "      <th>state</th>\n",
       "      <th>num_offenders</th>\n",
       "      <th>num_victims_killed</th>\n",
       "      <th>num_victims_injured</th>\n",
       "      <th>...</th>\n",
       "      <th>ak_47_pattern</th>\n",
       "      <th>ar_15_pattern</th>\n",
       "      <th>type</th>\n",
       "      <th>situation_type</th>\n",
       "      <th>location_type</th>\n",
       "      <th>location</th>\n",
       "      <th>gis_code</th>\n",
       "      <th>longitude</th>\n",
       "      <th>latitude</th>\n",
       "      <th>narrative</th>\n",
       "    </tr>\n",
       "  </thead>\n",
       "  <tbody>\n",
       "    <tr>\n",
       "      <th>0</th>\n",
       "      <td>45</td>\n",
       "      <td>543</td>\n",
       "      <td>2022-11-22</td>\n",
       "      <td>2022</td>\n",
       "      <td>Chesapeake</td>\n",
       "      <td>Chesapeake city</td>\n",
       "      <td>VA</td>\n",
       "      <td>1</td>\n",
       "      <td>6</td>\n",
       "      <td>6</td>\n",
       "      <td>...</td>\n",
       "      <td>False</td>\n",
       "      <td>False</td>\n",
       "      <td>Public</td>\n",
       "      <td>NaN</td>\n",
       "      <td>Commercial/Retail/Entertainment</td>\n",
       "      <td>Commercial/Retail</td>\n",
       "      <td>5.155002e+10</td>\n",
       "      <td>-76.25506</td>\n",
       "      <td>36.70788</td>\n",
       "      <td>A gunman, an employee of the Chesapeake Walmar...</td>\n",
       "    </tr>\n",
       "    <tr>\n",
       "      <th>1</th>\n",
       "      <td>46</td>\n",
       "      <td>541</td>\n",
       "      <td>2022-11-20</td>\n",
       "      <td>2022</td>\n",
       "      <td>Colorado Springs</td>\n",
       "      <td>El Paso County</td>\n",
       "      <td>CO</td>\n",
       "      <td>1</td>\n",
       "      <td>5</td>\n",
       "      <td>17</td>\n",
       "      <td>...</td>\n",
       "      <td>False</td>\n",
       "      <td>False</td>\n",
       "      <td>Public</td>\n",
       "      <td>Hate</td>\n",
       "      <td>Commercial/Retail/Entertainment</td>\n",
       "      <td>Bar/Club/Restaurant</td>\n",
       "      <td>8.041000e+09</td>\n",
       "      <td>-104.75820</td>\n",
       "      <td>38.88104</td>\n",
       "      <td>Five people were killed and 25 injured at an L...</td>\n",
       "    </tr>\n",
       "    <tr>\n",
       "      <th>2</th>\n",
       "      <td>47</td>\n",
       "      <td>542</td>\n",
       "      <td>2022-11-20</td>\n",
       "      <td>2022</td>\n",
       "      <td>Hennessey</td>\n",
       "      <td>Kingfisher County</td>\n",
       "      <td>OK</td>\n",
       "      <td>1</td>\n",
       "      <td>4</td>\n",
       "      <td>1</td>\n",
       "      <td>...</td>\n",
       "      <td>False</td>\n",
       "      <td>False</td>\n",
       "      <td>Other</td>\n",
       "      <td>NaN</td>\n",
       "      <td>Commercial/Retail/Entertainment</td>\n",
       "      <td>Commercial/Retail</td>\n",
       "      <td>4.007396e+10</td>\n",
       "      <td>-98.09125</td>\n",
       "      <td>36.14123</td>\n",
       "      <td>Deputies responding to reports of a hostage si...</td>\n",
       "    </tr>\n",
       "    <tr>\n",
       "      <th>3</th>\n",
       "      <td>48</td>\n",
       "      <td>540</td>\n",
       "      <td>2022-11-18</td>\n",
       "      <td>2022</td>\n",
       "      <td>Richmond</td>\n",
       "      <td>Chesterfield County</td>\n",
       "      <td>VA</td>\n",
       "      <td>1</td>\n",
       "      <td>4</td>\n",
       "      <td>0</td>\n",
       "      <td>...</td>\n",
       "      <td>False</td>\n",
       "      <td>False</td>\n",
       "      <td>Family</td>\n",
       "      <td>NaN</td>\n",
       "      <td>Residence/Other shelter</td>\n",
       "      <td>Residence</td>\n",
       "      <td>5.104110e+10</td>\n",
       "      <td>-77.46759</td>\n",
       "      <td>37.39593</td>\n",
       "      <td>A woman and her three children were fatally sh...</td>\n",
       "    </tr>\n",
       "    <tr>\n",
       "      <th>4</th>\n",
       "      <td>51</td>\n",
       "      <td>536</td>\n",
       "      <td>2022-11-04</td>\n",
       "      <td>2022</td>\n",
       "      <td>La Plata</td>\n",
       "      <td>Charles County</td>\n",
       "      <td>MD</td>\n",
       "      <td>1</td>\n",
       "      <td>4</td>\n",
       "      <td>0</td>\n",
       "      <td>...</td>\n",
       "      <td>False</td>\n",
       "      <td>False</td>\n",
       "      <td>Family</td>\n",
       "      <td>NaN</td>\n",
       "      <td>Residence/Other shelter</td>\n",
       "      <td>Residence</td>\n",
       "      <td>2.401785e+10</td>\n",
       "      <td>-76.95524</td>\n",
       "      <td>38.53813</td>\n",
       "      <td>Responding to a 911 call about a shooting, the...</td>\n",
       "    </tr>\n",
       "  </tbody>\n",
       "</table>\n",
       "<p>5 rows × 22 columns</p>\n",
       "</div>"
      ],
      "text/plain": [
       "   Unnamed: 0  incident_id        date  year              city  \\\n",
       "0          45          543  2022-11-22  2022        Chesapeake   \n",
       "1          46          541  2022-11-20  2022  Colorado Springs   \n",
       "2          47          542  2022-11-20  2022         Hennessey   \n",
       "3          48          540  2022-11-18  2022          Richmond   \n",
       "4          51          536  2022-11-04  2022          La Plata   \n",
       "\n",
       "                county state  num_offenders  num_victims_killed  \\\n",
       "0      Chesapeake city    VA              1                   6   \n",
       "1       El Paso County    CO              1                   5   \n",
       "2    Kingfisher County    OK              1                   4   \n",
       "3  Chesterfield County    VA              1                   4   \n",
       "4       Charles County    MD              1                   4   \n",
       "\n",
       "   num_victims_injured  ... ak_47_pattern ar_15_pattern    type  \\\n",
       "0                    6  ...         False         False  Public   \n",
       "1                   17  ...         False         False  Public   \n",
       "2                    1  ...         False         False   Other   \n",
       "3                    0  ...         False         False  Family   \n",
       "4                    0  ...         False         False  Family   \n",
       "\n",
       "   situation_type                    location_type             location  \\\n",
       "0             NaN  Commercial/Retail/Entertainment    Commercial/Retail   \n",
       "1            Hate  Commercial/Retail/Entertainment  Bar/Club/Restaurant   \n",
       "2             NaN  Commercial/Retail/Entertainment    Commercial/Retail   \n",
       "3             NaN          Residence/Other shelter            Residence   \n",
       "4             NaN          Residence/Other shelter            Residence   \n",
       "\n",
       "       gis_code  longitude  latitude  \\\n",
       "0  5.155002e+10  -76.25506  36.70788   \n",
       "1  8.041000e+09 -104.75820  38.88104   \n",
       "2  4.007396e+10  -98.09125  36.14123   \n",
       "3  5.104110e+10  -77.46759  37.39593   \n",
       "4  2.401785e+10  -76.95524  38.53813   \n",
       "\n",
       "                                           narrative  \n",
       "0  A gunman, an employee of the Chesapeake Walmar...  \n",
       "1  Five people were killed and 25 injured at an L...  \n",
       "2  Deputies responding to reports of a hostage si...  \n",
       "3  A woman and her three children were fatally sh...  \n",
       "4  Responding to a 911 call about a shooting, the...  \n",
       "\n",
       "[5 rows x 22 columns]"
      ]
     },
     "execution_count": 2,
     "metadata": {},
     "output_type": "execute_result"
    }
   ],
   "source": [
    "shooting_incidents = pd.read_csv('../data/shooting_incidents.csv')\n",
    "shooting_incidents.insert(3, 'year', pd.DatetimeIndex(shooting_incidents['date']).year)\n",
    "shooting_incidents.head()"
   ]
  },
  {
   "cell_type": "markdown",
   "id": "852d8398",
   "metadata": {},
   "source": [
    "# Mass Shootings by State\n",
    "# 2017"
   ]
  },
  {
   "cell_type": "code",
   "execution_count": 3,
   "id": "62451237",
   "metadata": {},
   "outputs": [
    {
     "data": {
      "text/html": [
       "<div>\n",
       "<style scoped>\n",
       "    .dataframe tbody tr th:only-of-type {\n",
       "        vertical-align: middle;\n",
       "    }\n",
       "\n",
       "    .dataframe tbody tr th {\n",
       "        vertical-align: top;\n",
       "    }\n",
       "\n",
       "    .dataframe thead th {\n",
       "        text-align: right;\n",
       "    }\n",
       "</style>\n",
       "<table border=\"1\" class=\"dataframe\">\n",
       "  <thead>\n",
       "    <tr style=\"text-align: right;\">\n",
       "      <th></th>\n",
       "      <th>2017</th>\n",
       "    </tr>\n",
       "    <tr>\n",
       "      <th>state</th>\n",
       "      <th></th>\n",
       "    </tr>\n",
       "  </thead>\n",
       "  <tbody>\n",
       "    <tr>\n",
       "      <th>AZ</th>\n",
       "      <td>1</td>\n",
       "    </tr>\n",
       "    <tr>\n",
       "      <th>CA</th>\n",
       "      <td>1</td>\n",
       "    </tr>\n",
       "    <tr>\n",
       "      <th>FL</th>\n",
       "      <td>2</td>\n",
       "    </tr>\n",
       "    <tr>\n",
       "      <th>IL</th>\n",
       "      <td>2</td>\n",
       "    </tr>\n",
       "    <tr>\n",
       "      <th>LA</th>\n",
       "      <td>1</td>\n",
       "    </tr>\n",
       "  </tbody>\n",
       "</table>\n",
       "</div>"
      ],
      "text/plain": [
       "       2017\n",
       "state      \n",
       "AZ        1\n",
       "CA        1\n",
       "FL        2\n",
       "IL        2\n",
       "LA        1"
      ]
     },
     "execution_count": 3,
     "metadata": {},
     "output_type": "execute_result"
    }
   ],
   "source": [
    "state_incidents_2017 = shooting_incidents[shooting_incidents['year'] == 2017]\n",
    "state_incidents_2017 = state_incidents_2017.groupby(['state']).count()\n",
    "state_incidents_2017 = pd.DataFrame(state_incidents_2017['incident_id'])\n",
    "state_incidents_2017 = state_incidents_2017.rename(columns={'incident_id': '2017'})\n",
    "state_incidents_2017.head()"
   ]
  },
  {
   "cell_type": "code",
   "execution_count": 4,
   "id": "393db6c5",
   "metadata": {},
   "outputs": [
    {
     "data": {
      "text/plain": [
       "2017    50\n",
       "dtype: int64"
      ]
     },
     "execution_count": 4,
     "metadata": {},
     "output_type": "execute_result"
    }
   ],
   "source": [
    "states = ['AK', 'AL', 'AR', 'AZ', 'CA', 'CO', 'CT', 'DE', 'FL', 'GA', \n",
    "          'HI', 'IA', 'ID', 'IL', 'IN', 'KS', 'KY', 'LA', 'MA', 'MD', \n",
    "          'ME', 'MI', 'MN', 'MO', 'MS', 'MT', 'NC', 'ND', 'NE', 'NH', \n",
    "          'NJ', 'NM', 'NV', 'NY', 'OH', 'OK', 'OR', 'PA', 'RI', 'SC', \n",
    "          'SD', 'TN', 'TX', 'UT', 'VA', 'VT', 'WA', 'WI', 'WV', 'WY']\n",
    "states = pd.Series(states)\n",
    "\n",
    "missing_states = pd.DataFrame(states[~states.isin(state_incidents_2017.index)])\n",
    "missing_states['2017'] = [0] * 34\n",
    "missing_states.set_index(0, inplace=True)\n",
    "\n",
    "state_incidents_2017 = pd.concat([state_incidents_2017, missing_states])\n",
    "state_incidents_2017.count()"
   ]
  },
  {
   "cell_type": "markdown",
   "id": "ed5c1689",
   "metadata": {},
   "source": [
    "# 2018"
   ]
  },
  {
   "cell_type": "code",
   "execution_count": 5,
   "id": "9d4f6cee",
   "metadata": {},
   "outputs": [
    {
     "data": {
      "text/html": [
       "<div>\n",
       "<style scoped>\n",
       "    .dataframe tbody tr th:only-of-type {\n",
       "        vertical-align: middle;\n",
       "    }\n",
       "\n",
       "    .dataframe tbody tr th {\n",
       "        vertical-align: top;\n",
       "    }\n",
       "\n",
       "    .dataframe thead th {\n",
       "        text-align: right;\n",
       "    }\n",
       "</style>\n",
       "<table border=\"1\" class=\"dataframe\">\n",
       "  <thead>\n",
       "    <tr style=\"text-align: right;\">\n",
       "      <th></th>\n",
       "      <th>2018</th>\n",
       "    </tr>\n",
       "    <tr>\n",
       "      <th>state</th>\n",
       "      <th></th>\n",
       "    </tr>\n",
       "  </thead>\n",
       "  <tbody>\n",
       "    <tr>\n",
       "      <th>AZ</th>\n",
       "      <td>1</td>\n",
       "    </tr>\n",
       "    <tr>\n",
       "      <th>CA</th>\n",
       "      <td>2</td>\n",
       "    </tr>\n",
       "    <tr>\n",
       "      <th>DE</th>\n",
       "      <td>1</td>\n",
       "    </tr>\n",
       "    <tr>\n",
       "      <th>FL</th>\n",
       "      <td>2</td>\n",
       "    </tr>\n",
       "    <tr>\n",
       "      <th>KY</th>\n",
       "      <td>1</td>\n",
       "    </tr>\n",
       "  </tbody>\n",
       "</table>\n",
       "</div>"
      ],
      "text/plain": [
       "       2018\n",
       "state      \n",
       "AZ        1\n",
       "CA        2\n",
       "DE        1\n",
       "FL        2\n",
       "KY        1"
      ]
     },
     "execution_count": 5,
     "metadata": {},
     "output_type": "execute_result"
    }
   ],
   "source": [
    "state_incidents_2018 = shooting_incidents[shooting_incidents['year'] == 2018]\n",
    "state_incidents_2018 = state_incidents_2018.groupby(['state']).count()\n",
    "state_incidents_2018 = pd.DataFrame(state_incidents_2018['incident_id'])\n",
    "state_incidents_2018 = state_incidents_2018.rename(columns={'incident_id': '2018'})\n",
    "state_incidents_2018.head()"
   ]
  },
  {
   "cell_type": "code",
   "execution_count": 6,
   "id": "32c2293d",
   "metadata": {},
   "outputs": [
    {
     "data": {
      "text/plain": [
       "2018    50\n",
       "dtype: int64"
      ]
     },
     "execution_count": 6,
     "metadata": {},
     "output_type": "execute_result"
    }
   ],
   "source": [
    "missing_states = pd.DataFrame(states[~states.isin(state_incidents_2018.index)])\n",
    "missing_states['2018'] = [0] * 38\n",
    "missing_states.set_index(0, inplace=True)\n",
    "\n",
    "state_incidents_2018 = pd.concat([state_incidents_2018, missing_states])\n",
    "state_incidents_2018.count()"
   ]
  },
  {
   "cell_type": "markdown",
   "id": "eb5e99c7",
   "metadata": {},
   "source": [
    "# 2019"
   ]
  },
  {
   "cell_type": "code",
   "execution_count": 7,
   "id": "35d9456d",
   "metadata": {},
   "outputs": [
    {
     "data": {
      "text/html": [
       "<div>\n",
       "<style scoped>\n",
       "    .dataframe tbody tr th:only-of-type {\n",
       "        vertical-align: middle;\n",
       "    }\n",
       "\n",
       "    .dataframe tbody tr th {\n",
       "        vertical-align: top;\n",
       "    }\n",
       "\n",
       "    .dataframe thead th {\n",
       "        text-align: right;\n",
       "    }\n",
       "</style>\n",
       "<table border=\"1\" class=\"dataframe\">\n",
       "  <thead>\n",
       "    <tr style=\"text-align: right;\">\n",
       "      <th></th>\n",
       "      <th>2019</th>\n",
       "    </tr>\n",
       "    <tr>\n",
       "      <th>state</th>\n",
       "      <th></th>\n",
       "    </tr>\n",
       "  </thead>\n",
       "  <tbody>\n",
       "    <tr>\n",
       "      <th>AL</th>\n",
       "      <td>1</td>\n",
       "    </tr>\n",
       "    <tr>\n",
       "      <th>AZ</th>\n",
       "      <td>1</td>\n",
       "    </tr>\n",
       "    <tr>\n",
       "      <th>CA</th>\n",
       "      <td>7</td>\n",
       "    </tr>\n",
       "    <tr>\n",
       "      <th>FL</th>\n",
       "      <td>1</td>\n",
       "    </tr>\n",
       "    <tr>\n",
       "      <th>GA</th>\n",
       "      <td>1</td>\n",
       "    </tr>\n",
       "  </tbody>\n",
       "</table>\n",
       "</div>"
      ],
      "text/plain": [
       "       2019\n",
       "state      \n",
       "AL        1\n",
       "AZ        1\n",
       "CA        7\n",
       "FL        1\n",
       "GA        1"
      ]
     },
     "execution_count": 7,
     "metadata": {},
     "output_type": "execute_result"
    }
   ],
   "source": [
    "state_incidents_2019 = shooting_incidents[shooting_incidents['year'] == 2019]\n",
    "state_incidents_2019 = state_incidents_2019.groupby(['state']).count()\n",
    "state_incidents_2019 = pd.DataFrame(state_incidents_2019['incident_id'])\n",
    "state_incidents_2019 = state_incidents_2019.rename(columns={'incident_id': '2019'})\n",
    "state_incidents_2019.head()"
   ]
  },
  {
   "cell_type": "code",
   "execution_count": 8,
   "id": "1f217154",
   "metadata": {},
   "outputs": [
    {
     "data": {
      "text/plain": [
       "2019    50\n",
       "dtype: int64"
      ]
     },
     "execution_count": 8,
     "metadata": {},
     "output_type": "execute_result"
    }
   ],
   "source": [
    "missing_states = pd.DataFrame(states[~states.isin(state_incidents_2019.index)])\n",
    "missing_states['2019'] = [0] * 30\n",
    "missing_states.set_index(0, inplace=True)\n",
    "\n",
    "state_incidents_2019 = pd.concat([state_incidents_2019, missing_states])\n",
    "state_incidents_2019.count()"
   ]
  },
  {
   "cell_type": "markdown",
   "id": "72c7fb99",
   "metadata": {},
   "source": [
    "# 2020"
   ]
  },
  {
   "cell_type": "code",
   "execution_count": 9,
   "id": "e7997adc",
   "metadata": {},
   "outputs": [
    {
     "data": {
      "text/html": [
       "<div>\n",
       "<style scoped>\n",
       "    .dataframe tbody tr th:only-of-type {\n",
       "        vertical-align: middle;\n",
       "    }\n",
       "\n",
       "    .dataframe tbody tr th {\n",
       "        vertical-align: top;\n",
       "    }\n",
       "\n",
       "    .dataframe thead th {\n",
       "        text-align: right;\n",
       "    }\n",
       "</style>\n",
       "<table border=\"1\" class=\"dataframe\">\n",
       "  <thead>\n",
       "    <tr style=\"text-align: right;\">\n",
       "      <th></th>\n",
       "      <th>2020</th>\n",
       "    </tr>\n",
       "    <tr>\n",
       "      <th>state</th>\n",
       "      <th></th>\n",
       "    </tr>\n",
       "  </thead>\n",
       "  <tbody>\n",
       "    <tr>\n",
       "      <th>AK</th>\n",
       "      <td>1</td>\n",
       "    </tr>\n",
       "    <tr>\n",
       "      <th>AL</th>\n",
       "      <td>1</td>\n",
       "    </tr>\n",
       "    <tr>\n",
       "      <th>AR</th>\n",
       "      <td>1</td>\n",
       "    </tr>\n",
       "    <tr>\n",
       "      <th>CA</th>\n",
       "      <td>1</td>\n",
       "    </tr>\n",
       "    <tr>\n",
       "      <th>IL</th>\n",
       "      <td>1</td>\n",
       "    </tr>\n",
       "  </tbody>\n",
       "</table>\n",
       "</div>"
      ],
      "text/plain": [
       "       2020\n",
       "state      \n",
       "AK        1\n",
       "AL        1\n",
       "AR        1\n",
       "CA        1\n",
       "IL        1"
      ]
     },
     "execution_count": 9,
     "metadata": {},
     "output_type": "execute_result"
    }
   ],
   "source": [
    "state_incidents_2020 = shooting_incidents[shooting_incidents['year'] == 2020]\n",
    "state_incidents_2020 = state_incidents_2020.groupby(['state']).count()\n",
    "state_incidents_2020 = pd.DataFrame(state_incidents_2020['incident_id'])\n",
    "state_incidents_2020 = state_incidents_2020.rename(columns={'incident_id': '2020'})\n",
    "state_incidents_2020.head()"
   ]
  },
  {
   "cell_type": "code",
   "execution_count": 10,
   "id": "705726bf",
   "metadata": {},
   "outputs": [
    {
     "data": {
      "text/plain": [
       "2020    50\n",
       "dtype: int64"
      ]
     },
     "execution_count": 10,
     "metadata": {},
     "output_type": "execute_result"
    }
   ],
   "source": [
    "missing_states = pd.DataFrame(states[~states.isin(state_incidents_2020.index)])\n",
    "missing_states['2020'] = [0] * 34\n",
    "missing_states.set_index(0, inplace=True)\n",
    "\n",
    "state_incidents_2020 = pd.concat([state_incidents_2020, missing_states])\n",
    "state_incidents_2020.count()"
   ]
  },
  {
   "cell_type": "markdown",
   "id": "233209db",
   "metadata": {},
   "source": [
    "# 2021"
   ]
  },
  {
   "cell_type": "code",
   "execution_count": 11,
   "id": "67f40516",
   "metadata": {},
   "outputs": [
    {
     "data": {
      "text/html": [
       "<div>\n",
       "<style scoped>\n",
       "    .dataframe tbody tr th:only-of-type {\n",
       "        vertical-align: middle;\n",
       "    }\n",
       "\n",
       "    .dataframe tbody tr th {\n",
       "        vertical-align: top;\n",
       "    }\n",
       "\n",
       "    .dataframe thead th {\n",
       "        text-align: right;\n",
       "    }\n",
       "</style>\n",
       "<table border=\"1\" class=\"dataframe\">\n",
       "  <thead>\n",
       "    <tr style=\"text-align: right;\">\n",
       "      <th></th>\n",
       "      <th>2021</th>\n",
       "    </tr>\n",
       "    <tr>\n",
       "      <th>state</th>\n",
       "      <th></th>\n",
       "    </tr>\n",
       "  </thead>\n",
       "  <tbody>\n",
       "    <tr>\n",
       "      <th>AZ</th>\n",
       "      <td>1</td>\n",
       "    </tr>\n",
       "    <tr>\n",
       "      <th>CA</th>\n",
       "      <td>4</td>\n",
       "    </tr>\n",
       "    <tr>\n",
       "      <th>CO</th>\n",
       "      <td>3</td>\n",
       "    </tr>\n",
       "    <tr>\n",
       "      <th>FL</th>\n",
       "      <td>1</td>\n",
       "    </tr>\n",
       "    <tr>\n",
       "      <th>GA</th>\n",
       "      <td>1</td>\n",
       "    </tr>\n",
       "  </tbody>\n",
       "</table>\n",
       "</div>"
      ],
      "text/plain": [
       "       2021\n",
       "state      \n",
       "AZ        1\n",
       "CA        4\n",
       "CO        3\n",
       "FL        1\n",
       "GA        1"
      ]
     },
     "execution_count": 11,
     "metadata": {},
     "output_type": "execute_result"
    }
   ],
   "source": [
    "state_incidents_2021 = shooting_incidents[shooting_incidents['year'] == 2021]\n",
    "state_incidents_2021 = state_incidents_2021.groupby(['state']).count()\n",
    "state_incidents_2021 = pd.DataFrame(state_incidents_2021['incident_id'])\n",
    "state_incidents_2021 = state_incidents_2021.rename(columns={'incident_id': '2021'})\n",
    "state_incidents_2021.head()"
   ]
  },
  {
   "cell_type": "code",
   "execution_count": 12,
   "id": "e3cd823c",
   "metadata": {},
   "outputs": [
    {
     "data": {
      "text/plain": [
       "2021    50\n",
       "dtype: int64"
      ]
     },
     "execution_count": 12,
     "metadata": {},
     "output_type": "execute_result"
    }
   ],
   "source": [
    "missing_states = pd.DataFrame(states[~states.isin(state_incidents_2021.index)])\n",
    "missing_states['2021'] = [0] * 31\n",
    "missing_states.set_index(0, inplace=True)\n",
    "\n",
    "state_incidents_2021 = pd.concat([state_incidents_2021, missing_states])\n",
    "state_incidents_2021.count()"
   ]
  },
  {
   "cell_type": "markdown",
   "id": "37383f63",
   "metadata": {},
   "source": [
    "# 2022"
   ]
  },
  {
   "cell_type": "code",
   "execution_count": 13,
   "id": "3ae49fa1",
   "metadata": {},
   "outputs": [
    {
     "data": {
      "text/html": [
       "<div>\n",
       "<style scoped>\n",
       "    .dataframe tbody tr th:only-of-type {\n",
       "        vertical-align: middle;\n",
       "    }\n",
       "\n",
       "    .dataframe tbody tr th {\n",
       "        vertical-align: top;\n",
       "    }\n",
       "\n",
       "    .dataframe thead th {\n",
       "        text-align: right;\n",
       "    }\n",
       "</style>\n",
       "<table border=\"1\" class=\"dataframe\">\n",
       "  <thead>\n",
       "    <tr style=\"text-align: right;\">\n",
       "      <th></th>\n",
       "      <th>2022</th>\n",
       "    </tr>\n",
       "    <tr>\n",
       "      <th>state</th>\n",
       "      <th></th>\n",
       "    </tr>\n",
       "  </thead>\n",
       "  <tbody>\n",
       "    <tr>\n",
       "      <th>AR</th>\n",
       "      <td>1</td>\n",
       "    </tr>\n",
       "    <tr>\n",
       "      <th>CA</th>\n",
       "      <td>4</td>\n",
       "    </tr>\n",
       "    <tr>\n",
       "      <th>CO</th>\n",
       "      <td>2</td>\n",
       "    </tr>\n",
       "    <tr>\n",
       "      <th>FL</th>\n",
       "      <td>2</td>\n",
       "    </tr>\n",
       "    <tr>\n",
       "      <th>IL</th>\n",
       "      <td>1</td>\n",
       "    </tr>\n",
       "  </tbody>\n",
       "</table>\n",
       "</div>"
      ],
      "text/plain": [
       "       2022\n",
       "state      \n",
       "AR        1\n",
       "CA        4\n",
       "CO        2\n",
       "FL        2\n",
       "IL        1"
      ]
     },
     "execution_count": 13,
     "metadata": {},
     "output_type": "execute_result"
    }
   ],
   "source": [
    "state_incidents_2022 = shooting_incidents[shooting_incidents['year'] == 2022]\n",
    "state_incidents_2022 = state_incidents_2022.groupby(['state']).count()\n",
    "state_incidents_2022 = pd.DataFrame(state_incidents_2022['incident_id'])\n",
    "state_incidents_2022 = state_incidents_2022.rename(columns={'incident_id': '2022'})\n",
    "state_incidents_2022.head()"
   ]
  },
  {
   "cell_type": "code",
   "execution_count": 14,
   "id": "90a92a5c",
   "metadata": {},
   "outputs": [
    {
     "data": {
      "text/plain": [
       "2022    50\n",
       "dtype: int64"
      ]
     },
     "execution_count": 14,
     "metadata": {},
     "output_type": "execute_result"
    }
   ],
   "source": [
    "missing_states = pd.DataFrame(states[~states.isin(state_incidents_2022.index)])\n",
    "missing_states['2022'] = [0] * 32\n",
    "missing_states.set_index(0, inplace=True)\n",
    "\n",
    "state_incidents_2022 = pd.concat([state_incidents_2022, missing_states])\n",
    "state_incidents_2022.count()"
   ]
  },
  {
   "cell_type": "markdown",
   "id": "a18236cd",
   "metadata": {},
   "source": [
    "# 2017-2022"
   ]
  },
  {
   "cell_type": "code",
   "execution_count": 15,
   "id": "fe45cc90",
   "metadata": {},
   "outputs": [
    {
     "data": {
      "text/html": [
       "<div>\n",
       "<style scoped>\n",
       "    .dataframe tbody tr th:only-of-type {\n",
       "        vertical-align: middle;\n",
       "    }\n",
       "\n",
       "    .dataframe tbody tr th {\n",
       "        vertical-align: top;\n",
       "    }\n",
       "\n",
       "    .dataframe thead th {\n",
       "        text-align: right;\n",
       "    }\n",
       "</style>\n",
       "<table border=\"1\" class=\"dataframe\">\n",
       "  <thead>\n",
       "    <tr style=\"text-align: right;\">\n",
       "      <th></th>\n",
       "      <th>2017</th>\n",
       "      <th>2018</th>\n",
       "      <th>2019</th>\n",
       "      <th>2020</th>\n",
       "      <th>2021</th>\n",
       "      <th>2022</th>\n",
       "      <th>2017-2022</th>\n",
       "    </tr>\n",
       "  </thead>\n",
       "  <tbody>\n",
       "    <tr>\n",
       "      <th>AZ</th>\n",
       "      <td>1</td>\n",
       "      <td>1</td>\n",
       "      <td>1</td>\n",
       "      <td>0</td>\n",
       "      <td>1</td>\n",
       "      <td>0</td>\n",
       "      <td>4</td>\n",
       "    </tr>\n",
       "    <tr>\n",
       "      <th>CA</th>\n",
       "      <td>1</td>\n",
       "      <td>2</td>\n",
       "      <td>7</td>\n",
       "      <td>1</td>\n",
       "      <td>4</td>\n",
       "      <td>4</td>\n",
       "      <td>19</td>\n",
       "    </tr>\n",
       "    <tr>\n",
       "      <th>FL</th>\n",
       "      <td>2</td>\n",
       "      <td>2</td>\n",
       "      <td>1</td>\n",
       "      <td>0</td>\n",
       "      <td>1</td>\n",
       "      <td>2</td>\n",
       "      <td>8</td>\n",
       "    </tr>\n",
       "    <tr>\n",
       "      <th>IL</th>\n",
       "      <td>2</td>\n",
       "      <td>0</td>\n",
       "      <td>2</td>\n",
       "      <td>1</td>\n",
       "      <td>2</td>\n",
       "      <td>1</td>\n",
       "      <td>8</td>\n",
       "    </tr>\n",
       "    <tr>\n",
       "      <th>LA</th>\n",
       "      <td>1</td>\n",
       "      <td>0</td>\n",
       "      <td>1</td>\n",
       "      <td>1</td>\n",
       "      <td>0</td>\n",
       "      <td>0</td>\n",
       "      <td>3</td>\n",
       "    </tr>\n",
       "  </tbody>\n",
       "</table>\n",
       "</div>"
      ],
      "text/plain": [
       "    2017  2018  2019  2020  2021  2022  2017-2022\n",
       "AZ     1     1     1     0     1     0          4\n",
       "CA     1     2     7     1     4     4         19\n",
       "FL     2     2     1     0     1     2          8\n",
       "IL     2     0     2     1     2     1          8\n",
       "LA     1     0     1     1     0     0          3"
      ]
     },
     "execution_count": 15,
     "metadata": {},
     "output_type": "execute_result"
    }
   ],
   "source": [
    "state_incidents = pd.concat([state_incidents_2017, state_incidents_2018, state_incidents_2019, \n",
    "                             state_incidents_2020, state_incidents_2021, state_incidents_2022], axis=1)\n",
    "state_incidents['2017-2022'] = state_incidents.sum(axis=1)\n",
    "state_incidents.head()"
   ]
  },
  {
   "cell_type": "markdown",
   "id": "a958b6f1",
   "metadata": {},
   "source": [
    "# Number of Mass Shootings by State (2017-2022)"
   ]
  },
  {
   "cell_type": "code",
   "execution_count": 16,
   "id": "f533b292",
   "metadata": {},
   "outputs": [
    {
     "data": {
      "image/png": "[encoded data removed]",
      "text/plain": [
       "<IPython.core.display.Image object>"
      ]
     },
     "execution_count": 16,
     "metadata": {},
     "output_type": "execute_result"
    }
   ],
   "source": [
    "state_incidents_fig = go.Figure(data=go.Choropleth(locations=state_incidents.index, \n",
    "                                                   z=state_incidents['2017-2022'], \n",
    "                                                   locationmode='USA-states', \n",
    "                                                   colorscale='Reds',\n",
    "                                                   colorbar_title='Number of Shootings'))\n",
    "\n",
    "state_incidents_fig.update_layout(title_text='Number of Mass Shootings by State (2017-2022)', \n",
    "                                  geo_scope='usa')\n",
    "\n",
    "img_bytes = state_incidents_fig.to_image(format='png')\n",
    "Image(img_bytes)"
   ]
  },
  {
   "cell_type": "markdown",
   "id": "a5cd2e5b",
   "metadata": {},
   "source": [
    "# Shooting Victims by State\n",
    "# 2017"
   ]
  },
  {
   "cell_type": "code",
   "execution_count": 17,
   "id": "74715713",
   "metadata": {},
   "outputs": [],
   "source": [
    "# total\n",
    "state_victims_2017 = shooting_incidents[shooting_incidents['year'] == 2017]\n",
    "state_victims_2017 = state_victims_2017.groupby(['state']).count()\n",
    "state_victims_2017 = pd.DataFrame(state_victims_2017[['num_victims_killed', 'num_victims_injured']])\n",
    "state_victims_2017['2017'] = state_victims_2017.sum(axis=1)\n",
    "state_victims_2017 = state_victims_2017.drop(columns=['num_victims_killed', 'num_victims_injured'])\n",
    "\n",
    "# killed\n",
    "victims_killed_2017 = shooting_incidents[shooting_incidents['year'] == 2017]\n",
    "victims_killed_2017 = victims_killed_2017.groupby(['state']).count()\n",
    "victims_killed_2017 = pd.DataFrame(victims_killed_2017['num_victims_killed'])\n",
    "victims_killed_2017 = victims_killed_2017.rename(columns={'num_victims_killed': '2017'})\n",
    "\n",
    "# injured\n",
    "victims_injured_2017 = shooting_incidents[shooting_incidents['year'] == 2017]\n",
    "victims_injured_2017 = victims_injured_2017.groupby(['state']).count()\n",
    "victims_injured_2017 = pd.DataFrame(victims_injured_2017['num_victims_injured'])\n",
    "victims_injured_2017 = victims_injured_2017.rename(columns={'num_victims_injured': '2017'})"
   ]
  },
  {
   "cell_type": "code",
   "execution_count": 18,
   "id": "7fda434e",
   "metadata": {},
   "outputs": [],
   "source": [
    "# total\n",
    "missing_states = pd.DataFrame(states[~states.isin(state_victims_2017.index)])\n",
    "missing_states['2017'] = [0] * 34\n",
    "missing_states.set_index(0, inplace=True)\n",
    "state_victims_2017 = pd.concat([state_victims_2017, missing_states])\n",
    "\n",
    "# killed\n",
    "missing_states = pd.DataFrame(states[~states.isin(victims_killed_2017.index)])\n",
    "missing_states['2017'] = [0] * 34\n",
    "missing_states.set_index(0, inplace=True)\n",
    "victims_killed_2017 = pd.concat([victims_killed_2017, missing_states])\n",
    "\n",
    "# injured\n",
    "missing_states = pd.DataFrame(states[~states.isin(victims_injured_2017.index)])\n",
    "missing_states['2017'] = [0] * 34\n",
    "missing_states.set_index(0, inplace=True)\n",
    "victims_injured_2017 = pd.concat([victims_injured_2017, missing_states])"
   ]
  },
  {
   "cell_type": "markdown",
   "id": "b43a3bcb",
   "metadata": {},
   "source": [
    "# 2018"
   ]
  },
  {
   "cell_type": "code",
   "execution_count": 19,
   "id": "34b7213d",
   "metadata": {},
   "outputs": [],
   "source": [
    "# total\n",
    "state_victims_2018 = shooting_incidents[shooting_incidents['year'] == 2018]\n",
    "state_victims_2018 = state_victims_2018.groupby(['state']).count()\n",
    "state_victims_2018 = pd.DataFrame(state_victims_2018[['num_victims_killed', 'num_victims_injured']])\n",
    "state_victims_2018['2018'] = state_victims_2018.sum(axis=1)\n",
    "state_victims_2018 = state_victims_2018.drop(columns=['num_victims_killed', 'num_victims_injured'])\n",
    "\n",
    "# killed\n",
    "victims_killed_2018 = shooting_incidents[shooting_incidents['year'] == 2018]\n",
    "victims_killed_2018 = victims_killed_2018.groupby(['state']).count()\n",
    "victims_killed_2018 = pd.DataFrame(victims_killed_2018['num_victims_killed'])\n",
    "victims_killed_2018 = victims_killed_2018.rename(columns={'num_victims_killed': '2018'})\n",
    "\n",
    "# injured\n",
    "victims_injured_2018 = shooting_incidents[shooting_incidents['year'] == 2018]\n",
    "victims_injured_2018 = victims_injured_2018.groupby(['state']).count()\n",
    "victims_injured_2018 = pd.DataFrame(victims_injured_2018['num_victims_injured'])\n",
    "victims_injured_2018 = victims_injured_2018.rename(columns={'num_victims_injured': '2018'})"
   ]
  },
  {
   "cell_type": "code",
   "execution_count": 20,
   "id": "6116d7d2",
   "metadata": {},
   "outputs": [],
   "source": [
    "# total\n",
    "missing_states = pd.DataFrame(states[~states.isin(state_victims_2018.index)])\n",
    "missing_states['2018'] = [0] * 38\n",
    "missing_states.set_index(0, inplace=True)\n",
    "state_victims_2018 = pd.concat([state_victims_2018, missing_states])\n",
    "\n",
    "# killed\n",
    "missing_states = pd.DataFrame(states[~states.isin(victims_killed_2018.index)])\n",
    "missing_states['2018'] = [0] * 38\n",
    "missing_states.set_index(0, inplace=True)\n",
    "victims_killed_2018 = pd.concat([victims_killed_2018, missing_states])\n",
    "\n",
    "# injured\n",
    "missing_states = pd.DataFrame(states[~states.isin(victims_injured_2018.index)])\n",
    "missing_states['2018'] = [0] * 38\n",
    "missing_states.set_index(0, inplace=True)\n",
    "victims_injured_2018 = pd.concat([victims_injured_2018, missing_states])"
   ]
  },
  {
   "cell_type": "markdown",
   "id": "a03349c6",
   "metadata": {},
   "source": [
    "# 2019"
   ]
  },
  {
   "cell_type": "code",
   "execution_count": 21,
   "id": "bf31396b",
   "metadata": {},
   "outputs": [],
   "source": [
    "# total\n",
    "state_victims_2019 = shooting_incidents[shooting_incidents['year'] == 2019]\n",
    "state_victims_2019 = state_victims_2019.groupby(['state']).count()\n",
    "state_victims_2019 = pd.DataFrame(state_victims_2019[['num_victims_killed', 'num_victims_injured']])\n",
    "state_victims_2019['2019'] = state_victims_2019.sum(axis=1)\n",
    "state_victims_2019 = state_victims_2019.drop(columns=['num_victims_killed', 'num_victims_injured'])\n",
    "\n",
    "# killed\n",
    "victims_killed_2019 = shooting_incidents[shooting_incidents['year'] == 2019]\n",
    "victims_killed_2019 = victims_killed_2019.groupby(['state']).count()\n",
    "victims_killed_2019 = pd.DataFrame(victims_killed_2019['num_victims_killed'])\n",
    "victims_killed_2019 = victims_killed_2019.rename(columns={'num_victims_killed': '2019'})\n",
    "\n",
    "# injured\n",
    "victims_injured_2019 = shooting_incidents[shooting_incidents['year'] == 2019]\n",
    "victims_injured_2019 = victims_injured_2019.groupby(['state']).count()\n",
    "victims_injured_2019 = pd.DataFrame(victims_injured_2019['num_victims_injured'])\n",
    "victims_injured_2019 = victims_injured_2019.rename(columns={'num_victims_injured': '2019'})"
   ]
  },
  {
   "cell_type": "code",
   "execution_count": 22,
   "id": "b1432ea1",
   "metadata": {},
   "outputs": [],
   "source": [
    "# total\n",
    "missing_states = pd.DataFrame(states[~states.isin(state_victims_2019.index)])\n",
    "missing_states['2019'] = [0] * 30\n",
    "missing_states.set_index(0, inplace=True)\n",
    "state_victims_2019 = pd.concat([state_victims_2019, missing_states])\n",
    "\n",
    "# killed\n",
    "missing_states = pd.DataFrame(states[~states.isin(victims_killed_2019.index)])\n",
    "missing_states['2019'] = [0] * 30\n",
    "missing_states.set_index(0, inplace=True)\n",
    "victims_killed_2019 = pd.concat([victims_killed_2019, missing_states])\n",
    "\n",
    "# injured\n",
    "missing_states = pd.DataFrame(states[~states.isin(victims_injured_2019.index)])\n",
    "missing_states['2019'] = [0] * 30\n",
    "missing_states.set_index(0, inplace=True)\n",
    "victims_injured_2019 = pd.concat([victims_injured_2019, missing_states])"
   ]
  },
  {
   "cell_type": "markdown",
   "id": "75f3cd65",
   "metadata": {},
   "source": [
    "# 2020"
   ]
  },
  {
   "cell_type": "code",
   "execution_count": 23,
   "id": "90dda2e2",
   "metadata": {},
   "outputs": [],
   "source": [
    "# total\n",
    "state_victims_2020 = shooting_incidents[shooting_incidents['year'] == 2020]\n",
    "state_victims_2020 = state_victims_2020.groupby(['state']).count()\n",
    "state_victims_2020 = pd.DataFrame(state_victims_2020[['num_victims_killed', 'num_victims_injured']])\n",
    "state_victims_2020['2020'] = state_victims_2020.sum(axis=1)\n",
    "state_victims_2020 = state_victims_2020.drop(columns=['num_victims_killed', 'num_victims_injured'])\n",
    "\n",
    "# killed\n",
    "victims_killed_2020 = shooting_incidents[shooting_incidents['year'] == 2020]\n",
    "victims_killed_2020 = victims_killed_2020.groupby(['state']).count()\n",
    "victims_killed_2020 = pd.DataFrame(victims_killed_2020['num_victims_killed'])\n",
    "victims_killed_2020 = victims_killed_2020.rename(columns={'num_victims_killed': '2020'})\n",
    "\n",
    "# injured\n",
    "victims_injured_2020 = shooting_incidents[shooting_incidents['year'] == 2020]\n",
    "victims_injured_2020 = victims_injured_2020.groupby(['state']).count()\n",
    "victims_injured_2020 = pd.DataFrame(victims_injured_2020['num_victims_injured'])\n",
    "victims_injured_2020 = victims_injured_2020.rename(columns={'num_victims_injured': '2020'})"
   ]
  },
  {
   "cell_type": "code",
   "execution_count": 24,
   "id": "a2fea7fb",
   "metadata": {},
   "outputs": [],
   "source": [
    "# total\n",
    "missing_states = pd.DataFrame(states[~states.isin(state_victims_2020.index)])\n",
    "missing_states['2020'] = [0] * 34\n",
    "missing_states.set_index(0, inplace=True)\n",
    "state_victims_2020 = pd.concat([state_victims_2020, missing_states])\n",
    "\n",
    "# killed\n",
    "missing_states = pd.DataFrame(states[~states.isin(victims_killed_2020.index)])\n",
    "missing_states['2020'] = [0] * 34\n",
    "missing_states.set_index(0, inplace=True)\n",
    "victims_killed_2020 = pd.concat([victims_killed_2020, missing_states])\n",
    "\n",
    "# injured\n",
    "missing_states = pd.DataFrame(states[~states.isin(victims_injured_2020.index)])\n",
    "missing_states['2020'] = [0] * 34\n",
    "missing_states.set_index(0, inplace=True)\n",
    "victims_injured_2020 = pd.concat([victims_injured_2020, missing_states])"
   ]
  },
  {
   "cell_type": "markdown",
   "id": "49df3918",
   "metadata": {},
   "source": [
    "# 2021"
   ]
  },
  {
   "cell_type": "code",
   "execution_count": 25,
   "id": "909627f4",
   "metadata": {},
   "outputs": [],
   "source": [
    "# total\n",
    "state_victims_2021 = shooting_incidents[shooting_incidents['year'] == 2021]\n",
    "state_victims_2021 = state_victims_2021.groupby(['state']).count()\n",
    "state_victims_2021 = pd.DataFrame(state_victims_2021[['num_victims_killed', 'num_victims_injured']])\n",
    "state_victims_2021['2021'] = state_victims_2021.sum(axis=1)\n",
    "state_victims_2021 = state_victims_2021.drop(columns=['num_victims_killed', 'num_victims_injured'])\n",
    "\n",
    "# killed\n",
    "victims_killed_2021 = shooting_incidents[shooting_incidents['year'] == 2021]\n",
    "victims_killed_2021 = victims_killed_2021.groupby(['state']).count()\n",
    "victims_killed_2021 = pd.DataFrame(victims_killed_2021['num_victims_killed'])\n",
    "victims_killed_2021 = victims_killed_2021.rename(columns={'num_victims_killed': '2021'})\n",
    "\n",
    "# injured\n",
    "victims_injured_2021 = shooting_incidents[shooting_incidents['year'] == 2021]\n",
    "victims_injured_2021 = victims_injured_2021.groupby(['state']).count()\n",
    "victims_injured_2021 = pd.DataFrame(victims_injured_2021['num_victims_injured'])\n",
    "victims_injured_2021 = victims_injured_2021.rename(columns={'num_victims_injured': '2021'})"
   ]
  },
  {
   "cell_type": "code",
   "execution_count": 26,
   "id": "b97b4cb3",
   "metadata": {},
   "outputs": [],
   "source": [
    "# total\n",
    "missing_states = pd.DataFrame(states[~states.isin(state_victims_2021.index)])\n",
    "missing_states['2021'] = [0] * 31\n",
    "missing_states.set_index(0, inplace=True)\n",
    "state_victims_2021 = pd.concat([state_victims_2021, missing_states])\n",
    "\n",
    "# killed\n",
    "missing_states = pd.DataFrame(states[~states.isin(victims_killed_2021.index)])\n",
    "missing_states['2021'] = [0] * 31\n",
    "missing_states.set_index(0, inplace=True)\n",
    "victims_killed_2021 = pd.concat([victims_killed_2021, missing_states])\n",
    "\n",
    "# injured\n",
    "missing_states = pd.DataFrame(states[~states.isin(victims_injured_2021.index)])\n",
    "missing_states['2021'] = [0] * 31\n",
    "missing_states.set_index(0, inplace=True)\n",
    "victims_injured_2021 = pd.concat([victims_injured_2021, missing_states])"
   ]
  },
  {
   "cell_type": "markdown",
   "id": "2c5d5b8d",
   "metadata": {},
   "source": [
    "# 2022"
   ]
  },
  {
   "cell_type": "code",
   "execution_count": 27,
   "id": "d8a37896",
   "metadata": {},
   "outputs": [],
   "source": [
    "# total\n",
    "state_victims_2022 = shooting_incidents[shooting_incidents['year'] == 2022]\n",
    "state_victims_2022 = state_victims_2022.groupby(['state']).count()\n",
    "state_victims_2022 = pd.DataFrame(state_victims_2022[['num_victims_killed', 'num_victims_injured']])\n",
    "state_victims_2022['2022'] = state_victims_2022.sum(axis=1)\n",
    "state_victims_2022 = state_victims_2022.drop(columns=['num_victims_killed', 'num_victims_injured'])\n",
    "\n",
    "# killed\n",
    "victims_killed_2022 = shooting_incidents[shooting_incidents['year'] == 2022]\n",
    "victims_killed_2022 = victims_killed_2022.groupby(['state']).count()\n",
    "victims_killed_2022 = pd.DataFrame(victims_killed_2022['num_victims_killed'])\n",
    "victims_killed_2022 = victims_killed_2022.rename(columns={'num_victims_killed': '2022'})\n",
    "\n",
    "# injured\n",
    "victims_injured_2022 = shooting_incidents[shooting_incidents['year'] == 2022]\n",
    "victims_injured_2022 = victims_injured_2022.groupby(['state']).count()\n",
    "victims_injured_2022 = pd.DataFrame(victims_injured_2022['num_victims_injured'])\n",
    "victims_injured_2022 = victims_injured_2022.rename(columns={'num_victims_injured': '2022'})"
   ]
  },
  {
   "cell_type": "code",
   "execution_count": 28,
   "id": "31d93d0f",
   "metadata": {},
   "outputs": [],
   "source": [
    "# total\n",
    "missing_states = pd.DataFrame(states[~states.isin(state_victims_2022.index)])\n",
    "missing_states['2022'] = [0] * 32\n",
    "missing_states.set_index(0, inplace=True)\n",
    "state_victims_2022 = pd.concat([state_victims_2022, missing_states])\n",
    "\n",
    "# killed\n",
    "missing_states = pd.DataFrame(states[~states.isin(victims_killed_2022.index)])\n",
    "missing_states['2022'] = [0] * 32\n",
    "missing_states.set_index(0, inplace=True)\n",
    "victims_killed_2022 = pd.concat([victims_killed_2022, missing_states])\n",
    "\n",
    "# injured\n",
    "missing_states = pd.DataFrame(states[~states.isin(victims_injured_2022.index)])\n",
    "missing_states['2022'] = [0] * 32\n",
    "missing_states.set_index(0, inplace=True)\n",
    "victims_injured_2022 = pd.concat([victims_injured_2022, missing_states])"
   ]
  },
  {
   "cell_type": "markdown",
   "id": "87710a08",
   "metadata": {},
   "source": [
    "# 2017-2022"
   ]
  },
  {
   "cell_type": "code",
   "execution_count": 29,
   "id": "1ef7313e",
   "metadata": {},
   "outputs": [],
   "source": [
    "# total\n",
    "state_victims = pd.concat([state_victims_2017, state_victims_2018, state_victims_2019, \n",
    "                           state_victims_2020, state_victims_2021, state_victims_2022], axis=1)\n",
    "state_victims['2017-2022'] = state_victims.sum(axis=1)\n",
    "\n",
    "# killed\n",
    "victims_killed = pd.concat([victims_killed_2017, victims_killed_2018, victims_killed_2019, \n",
    "                            victims_killed_2020, victims_killed_2021, victims_killed_2022], axis=1)\n",
    "victims_killed['2017-2022'] = victims_killed.sum(axis=1)\n",
    "\n",
    "# injured\n",
    "victims_injured = pd.concat([victims_injured_2017, victims_injured_2018, victims_injured_2019, \n",
    "                             victims_injured_2020, victims_injured_2021, victims_injured_2022], axis=1)\n",
    "victims_injured['2017-2022'] = victims_injured.sum(axis=1)"
   ]
  },
  {
   "cell_type": "markdown",
   "id": "fa1a4643",
   "metadata": {},
   "source": [
    "# Number of Shooting Victims by State (2017-2022)"
   ]
  },
  {
   "cell_type": "code",
   "execution_count": 30,
   "id": "0b9f37db",
   "metadata": {},
   "outputs": [
    {
     "data": {
      "image/png": "[encoded data removed]",
      "text/plain": [
       "<IPython.core.display.Image object>"
      ]
     },
     "execution_count": 30,
     "metadata": {},
     "output_type": "execute_result"
    }
   ],
   "source": [
    "state_victims_fig = go.Figure(data=go.Choropleth(locations=state_victims.index, \n",
    "                                                 z=state_victims['2017-2022'], \n",
    "                                                 locationmode='USA-states', \n",
    "                                                 colorscale='Reds',\n",
    "                                                 colorbar_title='Number of Victims'))\n",
    "\n",
    "state_victims_fig.update_layout(title_text='Number of Shooting Victims by State (2017-2022)', \n",
    "                                geo_scope='usa')\n",
    "\n",
    "img_bytes = state_victims_fig.to_image(format='png')\n",
    "Image(img_bytes)"
   ]
  },
  {
   "cell_type": "markdown",
   "id": "c7bef1fb",
   "metadata": {},
   "source": [
    "# Shooting Victims Killed by State (2017-2022)"
   ]
  },
  {
   "cell_type": "code",
   "execution_count": 31,
   "id": "b74cd943",
   "metadata": {},
   "outputs": [
    {
     "data": {
      "image/png": "[encoded data removed]",
      "text/plain": [
       "<IPython.core.display.Image object>"
      ]
     },
     "execution_count": 31,
     "metadata": {},
     "output_type": "execute_result"
    }
   ],
   "source": [
    "victims_killed_fig = go.Figure(data=go.Choropleth(locations=victims_killed.index, \n",
    "                                                  z=victims_killed['2017-2022'], \n",
    "                                                  locationmode='USA-states', \n",
    "                                                  colorscale='Reds',\n",
    "                                                  colorbar_title='Number of Victims'))\n",
    "\n",
    "victims_killed_fig.update_layout(title_text='Shooting Victims Killed by State (2017-2022)', \n",
    "                                 geo_scope='usa')\n",
    "\n",
    "img_bytes = victims_killed_fig.to_image(format='png')\n",
    "Image(img_bytes)"
   ]
  },
  {
   "cell_type": "markdown",
   "id": "91b4b3f8",
   "metadata": {},
   "source": [
    "# Shooting Victims Injured by State (2017-2022)"
   ]
  },
  {
   "cell_type": "code",
   "execution_count": 32,
   "id": "8569e72e",
   "metadata": {},
   "outputs": [
    {
     "data": {
      "image/png": "[encoded data removed]",
      "text/plain": [
       "<IPython.core.display.Image object>"
      ]
     },
     "execution_count": 32,
     "metadata": {},
     "output_type": "execute_result"
    }
   ],
   "source": [
    "victims_injured_fig = go.Figure(data=go.Choropleth(locations=victims_injured.index, \n",
    "                                                   z=victims_injured['2017-2022'], \n",
    "                                                   locationmode='USA-states', \n",
    "                                                   colorscale='Reds',\n",
    "                                                   colorbar_title='Number of Victims'))\n",
    "\n",
    "victims_injured_fig.update_layout(title_text='Shooting Victims Injured by State (2017-2022)', \n",
    "                                  geo_scope='usa')\n",
    "\n",
    "img_bytes = victims_injured_fig.to_image(format='png')\n",
    "Image(img_bytes)"
   ]
  },
  {
   "cell_type": "markdown",
   "id": "d7fa4641",
   "metadata": {},
   "source": [
    "# Guns by State"
   ]
  },
  {
   "cell_type": "code",
   "execution_count": 33,
   "id": "21528f4f",
   "metadata": {},
   "outputs": [
    {
     "data": {
      "text/html": [
       "<div>\n",
       "<style scoped>\n",
       "    .dataframe tbody tr th:only-of-type {\n",
       "        vertical-align: middle;\n",
       "    }\n",
       "\n",
       "    .dataframe tbody tr th {\n",
       "        vertical-align: top;\n",
       "    }\n",
       "\n",
       "    .dataframe thead tr th {\n",
       "        text-align: left;\n",
       "    }\n",
       "\n",
       "    .dataframe thead tr:last-of-type th {\n",
       "        text-align: right;\n",
       "    }\n",
       "</style>\n",
       "<table border=\"1\" class=\"dataframe\">\n",
       "  <thead>\n",
       "    <tr>\n",
       "      <th></th>\n",
       "      <th colspan=\"10\" halign=\"left\">2017</th>\n",
       "      <th>...</th>\n",
       "      <th colspan=\"10\" halign=\"left\">2022</th>\n",
       "    </tr>\n",
       "    <tr>\n",
       "      <th>0</th>\n",
       "      <th>ALABAMA</th>\n",
       "      <th>ALASKA</th>\n",
       "      <th>ARIZONA</th>\n",
       "      <th>ARKANSAS</th>\n",
       "      <th>CALIFORNIA</th>\n",
       "      <th>COLORADO</th>\n",
       "      <th>CONNECTICUT</th>\n",
       "      <th>DELAWARE</th>\n",
       "      <th>DISTRICT OF COLUMBIA</th>\n",
       "      <th>FLORIDA</th>\n",
       "      <th>...</th>\n",
       "      <th>TEXAS</th>\n",
       "      <th>US VIRGIN ISLANDS</th>\n",
       "      <th>UTAH</th>\n",
       "      <th>VERMONT</th>\n",
       "      <th>VIRGINIA</th>\n",
       "      <th>WASHINGTON</th>\n",
       "      <th>WEST VIRGINIA</th>\n",
       "      <th>WISCONSIN</th>\n",
       "      <th>WYOMING</th>\n",
       "      <th>TOTAL</th>\n",
       "    </tr>\n",
       "    <tr>\n",
       "      <th>TYPES</th>\n",
       "      <th></th>\n",
       "      <th></th>\n",
       "      <th></th>\n",
       "      <th></th>\n",
       "      <th></th>\n",
       "      <th></th>\n",
       "      <th></th>\n",
       "      <th></th>\n",
       "      <th></th>\n",
       "      <th></th>\n",
       "      <th></th>\n",
       "      <th></th>\n",
       "      <th></th>\n",
       "      <th></th>\n",
       "      <th></th>\n",
       "      <th></th>\n",
       "      <th></th>\n",
       "      <th></th>\n",
       "      <th></th>\n",
       "      <th></th>\n",
       "      <th></th>\n",
       "    </tr>\n",
       "  </thead>\n",
       "  <tbody>\n",
       "    <tr>\n",
       "      <th>Any Other Weapon</th>\n",
       "      <td>2.0</td>\n",
       "      <td>0.0</td>\n",
       "      <td>28.0</td>\n",
       "      <td>0.0</td>\n",
       "      <td>6.0</td>\n",
       "      <td>6.0</td>\n",
       "      <td>0.0</td>\n",
       "      <td>0.0</td>\n",
       "      <td>0.0</td>\n",
       "      <td>5.0</td>\n",
       "      <td>...</td>\n",
       "      <td>NaN</td>\n",
       "      <td>NaN</td>\n",
       "      <td>NaN</td>\n",
       "      <td>NaN</td>\n",
       "      <td>NaN</td>\n",
       "      <td>NaN</td>\n",
       "      <td>NaN</td>\n",
       "      <td>NaN</td>\n",
       "      <td>NaN</td>\n",
       "      <td>NaN</td>\n",
       "    </tr>\n",
       "    <tr>\n",
       "      <th>Combination</th>\n",
       "      <td>5.0</td>\n",
       "      <td>1.0</td>\n",
       "      <td>2.0</td>\n",
       "      <td>1.0</td>\n",
       "      <td>12.0</td>\n",
       "      <td>3.0</td>\n",
       "      <td>2.0</td>\n",
       "      <td>0.0</td>\n",
       "      <td>0.0</td>\n",
       "      <td>9.0</td>\n",
       "      <td>...</td>\n",
       "      <td>NaN</td>\n",
       "      <td>NaN</td>\n",
       "      <td>NaN</td>\n",
       "      <td>NaN</td>\n",
       "      <td>NaN</td>\n",
       "      <td>NaN</td>\n",
       "      <td>NaN</td>\n",
       "      <td>NaN</td>\n",
       "      <td>NaN</td>\n",
       "      <td>NaN</td>\n",
       "    </tr>\n",
       "    <tr>\n",
       "      <th>Derringer</th>\n",
       "      <td>47.0</td>\n",
       "      <td>5.0</td>\n",
       "      <td>35.0</td>\n",
       "      <td>12.0</td>\n",
       "      <td>265.0</td>\n",
       "      <td>23.0</td>\n",
       "      <td>9.0</td>\n",
       "      <td>4.0</td>\n",
       "      <td>8.0</td>\n",
       "      <td>141.0</td>\n",
       "      <td>...</td>\n",
       "      <td>NaN</td>\n",
       "      <td>NaN</td>\n",
       "      <td>NaN</td>\n",
       "      <td>NaN</td>\n",
       "      <td>NaN</td>\n",
       "      <td>NaN</td>\n",
       "      <td>NaN</td>\n",
       "      <td>NaN</td>\n",
       "      <td>NaN</td>\n",
       "      <td>NaN</td>\n",
       "    </tr>\n",
       "    <tr>\n",
       "      <th>Destructive Device</th>\n",
       "      <td>1.0</td>\n",
       "      <td>0.0</td>\n",
       "      <td>3.0</td>\n",
       "      <td>0.0</td>\n",
       "      <td>5.0</td>\n",
       "      <td>0.0</td>\n",
       "      <td>0.0</td>\n",
       "      <td>1.0</td>\n",
       "      <td>0.0</td>\n",
       "      <td>3.0</td>\n",
       "      <td>...</td>\n",
       "      <td>NaN</td>\n",
       "      <td>NaN</td>\n",
       "      <td>NaN</td>\n",
       "      <td>NaN</td>\n",
       "      <td>NaN</td>\n",
       "      <td>NaN</td>\n",
       "      <td>NaN</td>\n",
       "      <td>NaN</td>\n",
       "      <td>NaN</td>\n",
       "      <td>NaN</td>\n",
       "    </tr>\n",
       "    <tr>\n",
       "      <th>Flare Gun</th>\n",
       "      <td>0.0</td>\n",
       "      <td>0.0</td>\n",
       "      <td>2.0</td>\n",
       "      <td>0.0</td>\n",
       "      <td>1.0</td>\n",
       "      <td>0.0</td>\n",
       "      <td>1.0</td>\n",
       "      <td>0.0</td>\n",
       "      <td>1.0</td>\n",
       "      <td>1.0</td>\n",
       "      <td>...</td>\n",
       "      <td>NaN</td>\n",
       "      <td>NaN</td>\n",
       "      <td>NaN</td>\n",
       "      <td>NaN</td>\n",
       "      <td>NaN</td>\n",
       "      <td>NaN</td>\n",
       "      <td>NaN</td>\n",
       "      <td>NaN</td>\n",
       "      <td>NaN</td>\n",
       "      <td>NaN</td>\n",
       "    </tr>\n",
       "  </tbody>\n",
       "</table>\n",
       "<p>5 rows × 330 columns</p>\n",
       "</div>"
      ],
      "text/plain": [
       "                      2017                                              \\\n",
       "0                  ALABAMA ALASKA ARIZONA ARKANSAS CALIFORNIA COLORADO   \n",
       "TYPES                                                                    \n",
       "Any Other Weapon       2.0    0.0    28.0      0.0        6.0      6.0   \n",
       "Combination            5.0    1.0     2.0      1.0       12.0      3.0   \n",
       "Derringer             47.0    5.0    35.0     12.0      265.0     23.0   \n",
       "Destructive Device     1.0    0.0     3.0      0.0        5.0      0.0   \n",
       "Flare Gun              0.0    0.0     2.0      0.0        1.0      0.0   \n",
       "\n",
       "                                                                      ...  \\\n",
       "0                  CONNECTICUT DELAWARE DISTRICT OF COLUMBIA FLORIDA  ...   \n",
       "TYPES                                                                 ...   \n",
       "Any Other Weapon           0.0      0.0                  0.0     5.0  ...   \n",
       "Combination                2.0      0.0                  0.0     9.0  ...   \n",
       "Derringer                  9.0      4.0                  8.0   141.0  ...   \n",
       "Destructive Device         0.0      1.0                  0.0     3.0  ...   \n",
       "Flare Gun                  1.0      0.0                  1.0     1.0  ...   \n",
       "\n",
       "                    2022                                                     \\\n",
       "0                  TEXAS US VIRGIN ISLANDS UTAH VERMONT VIRGINIA WASHINGTON   \n",
       "TYPES                                                                         \n",
       "Any Other Weapon     NaN               NaN  NaN     NaN      NaN        NaN   \n",
       "Combination          NaN               NaN  NaN     NaN      NaN        NaN   \n",
       "Derringer            NaN               NaN  NaN     NaN      NaN        NaN   \n",
       "Destructive Device   NaN               NaN  NaN     NaN      NaN        NaN   \n",
       "Flare Gun            NaN               NaN  NaN     NaN      NaN        NaN   \n",
       "\n",
       "                                                          \n",
       "0                  WEST VIRGINIA WISCONSIN WYOMING TOTAL  \n",
       "TYPES                                                     \n",
       "Any Other Weapon             NaN       NaN     NaN   NaN  \n",
       "Combination                  NaN       NaN     NaN   NaN  \n",
       "Derringer                    NaN       NaN     NaN   NaN  \n",
       "Destructive Device           NaN       NaN     NaN   NaN  \n",
       "Flare Gun                    NaN       NaN     NaN   NaN  \n",
       "\n",
       "[5 rows x 330 columns]"
      ]
     },
     "execution_count": 33,
     "metadata": {},
     "output_type": "execute_result"
    }
   ],
   "source": [
    "types = pd.read_csv('../data/types.csv', header=[0, 1], index_col=0)\n",
    "types.head()"
   ]
  },
  {
   "cell_type": "code",
   "execution_count": 34,
   "id": "6f7ef21b",
   "metadata": {},
   "outputs": [],
   "source": [
    "state_abbreviations = {'Alaska': 'AK',\n",
    "                       'Alabama': 'AL',\n",
    "                       'Arkansas': 'AR',\n",
    "                       'Arizona': 'AZ',\n",
    "                       'California': 'CA',\n",
    "                       'Colorado': 'CO',\n",
    "                       'Connecticut': 'CT',\n",
    "                       'District Of Columbia': 'DC',\n",
    "                       'Delaware': 'DE',\n",
    "                       'Florida': 'FL',\n",
    "                       'Georgia': 'GA',\n",
    "                       'Hawaii': 'HI',\n",
    "                       'Iowa': 'IA',\n",
    "                       'Idaho': 'ID',\n",
    "                       'Illinois': 'IL',\n",
    "                       'Indiana': 'IN',\n",
    "                       'Kansas': 'KS',\n",
    "                       'Kentucky': 'KY',\n",
    "                       'Louisiana': 'LA',\n",
    "                       'Massachusetts': 'MA',\n",
    "                       'Maryland': 'MD',\n",
    "                       'Maine': 'ME',\n",
    "                       'Michigan': 'MI',\n",
    "                       'Minnesota': 'MN',\n",
    "                       'Missouri': 'MO',\n",
    "                       'Mississippi': 'MS',\n",
    "                       'Montana': 'MT',\n",
    "                       'North Carolina': 'NC',\n",
    "                       'North Dakota': 'ND',\n",
    "                       'Nebraska': 'NE',\n",
    "                       'New Hampshire': 'NH',\n",
    "                       'New Jersey': 'NJ',\n",
    "                       'New Mexico': 'NM',\n",
    "                       'Nevada': 'NV',\n",
    "                       'New York': 'NY',\n",
    "                       'Ohio': 'OH',\n",
    "                       'Oklahoma': 'OK',\n",
    "                       'Oregon': 'OR',\n",
    "                       'Pennsylvania': 'PA',\n",
    "                       'Rhode Island': 'RI',\n",
    "                       'South Carolina': 'SC',\n",
    "                       'South Dakota': 'SD',\n",
    "                       'Tennessee': 'TN',\n",
    "                       'Texas': 'TX',\n",
    "                       'Utah': 'UT',\n",
    "                       'Virginia': 'VA',\n",
    "                       'Vermont': 'VT',\n",
    "                       'Washington': 'WA',\n",
    "                       'Wisconsin': 'WI',\n",
    "                       'West Virginia': 'WV',\n",
    "                       'Wyoming': 'WY',\n",
    "                       'Puerto Rico': 'PR',\n",
    "                       'Us Virgin Islands': 'VI'}"
   ]
  },
  {
   "cell_type": "markdown",
   "id": "0f912385",
   "metadata": {},
   "source": [
    "# 2017"
   ]
  },
  {
   "cell_type": "code",
   "execution_count": 35,
   "id": "b7655c44",
   "metadata": {},
   "outputs": [
    {
     "data": {
      "text/html": [
       "<div>\n",
       "<style scoped>\n",
       "    .dataframe tbody tr th:only-of-type {\n",
       "        vertical-align: middle;\n",
       "    }\n",
       "\n",
       "    .dataframe tbody tr th {\n",
       "        vertical-align: top;\n",
       "    }\n",
       "\n",
       "    .dataframe thead th {\n",
       "        text-align: right;\n",
       "    }\n",
       "</style>\n",
       "<table border=\"1\" class=\"dataframe\">\n",
       "  <thead>\n",
       "    <tr style=\"text-align: right;\">\n",
       "      <th></th>\n",
       "      <th>2017</th>\n",
       "    </tr>\n",
       "    <tr>\n",
       "      <th>state</th>\n",
       "      <th></th>\n",
       "    </tr>\n",
       "  </thead>\n",
       "  <tbody>\n",
       "    <tr>\n",
       "      <th>AL</th>\n",
       "      <td>13332.0</td>\n",
       "    </tr>\n",
       "    <tr>\n",
       "      <th>AK</th>\n",
       "      <td>2150.0</td>\n",
       "    </tr>\n",
       "    <tr>\n",
       "      <th>AZ</th>\n",
       "      <td>13276.0</td>\n",
       "    </tr>\n",
       "    <tr>\n",
       "      <th>AR</th>\n",
       "      <td>3050.0</td>\n",
       "    </tr>\n",
       "    <tr>\n",
       "      <th>CA</th>\n",
       "      <td>83054.0</td>\n",
       "    </tr>\n",
       "  </tbody>\n",
       "</table>\n",
       "</div>"
      ],
      "text/plain": [
       "          2017\n",
       "state         \n",
       "AL     13332.0\n",
       "AK      2150.0\n",
       "AZ     13276.0\n",
       "AR      3050.0\n",
       "CA     83054.0"
      ]
     },
     "execution_count": 35,
     "metadata": {},
     "output_type": "execute_result"
    }
   ],
   "source": [
    "guns_2017 = pd.DataFrame(types.loc[:, ['2017']].sum()).reset_index()\n",
    "guns_2017 = guns_2017.rename(columns={'0': 'state', 0: '2017'})\n",
    "guns_2017.index = guns_2017['state'].str.title().replace(state_abbreviations)\n",
    "guns_2017 = guns_2017.drop(columns=['level_0', 'state'])\n",
    "guns_2017 = guns_2017.drop(['Guam', 'Total'])\n",
    "guns_2017.head()"
   ]
  },
  {
   "cell_type": "markdown",
   "id": "af2683a1",
   "metadata": {},
   "source": [
    "# 2018"
   ]
  },
  {
   "cell_type": "code",
   "execution_count": 36,
   "id": "e5985ee5",
   "metadata": {},
   "outputs": [
    {
     "data": {
      "text/html": [
       "<div>\n",
       "<style scoped>\n",
       "    .dataframe tbody tr th:only-of-type {\n",
       "        vertical-align: middle;\n",
       "    }\n",
       "\n",
       "    .dataframe tbody tr th {\n",
       "        vertical-align: top;\n",
       "    }\n",
       "\n",
       "    .dataframe thead th {\n",
       "        text-align: right;\n",
       "    }\n",
       "</style>\n",
       "<table border=\"1\" class=\"dataframe\">\n",
       "  <thead>\n",
       "    <tr style=\"text-align: right;\">\n",
       "      <th></th>\n",
       "      <th>2018</th>\n",
       "    </tr>\n",
       "    <tr>\n",
       "      <th>state</th>\n",
       "      <th></th>\n",
       "    </tr>\n",
       "  </thead>\n",
       "  <tbody>\n",
       "    <tr>\n",
       "      <th>AL</th>\n",
       "      <td>13024.0</td>\n",
       "    </tr>\n",
       "    <tr>\n",
       "      <th>AK</th>\n",
       "      <td>2020.0</td>\n",
       "    </tr>\n",
       "    <tr>\n",
       "      <th>AZ</th>\n",
       "      <td>16502.0</td>\n",
       "    </tr>\n",
       "    <tr>\n",
       "      <th>AR</th>\n",
       "      <td>4630.0</td>\n",
       "    </tr>\n",
       "    <tr>\n",
       "      <th>CA</th>\n",
       "      <td>84976.0</td>\n",
       "    </tr>\n",
       "  </tbody>\n",
       "</table>\n",
       "</div>"
      ],
      "text/plain": [
       "          2018\n",
       "state         \n",
       "AL     13024.0\n",
       "AK      2020.0\n",
       "AZ     16502.0\n",
       "AR      4630.0\n",
       "CA     84976.0"
      ]
     },
     "execution_count": 36,
     "metadata": {},
     "output_type": "execute_result"
    }
   ],
   "source": [
    "guns_2018 = pd.DataFrame(types.loc[:, ['2018']].sum()).reset_index()\n",
    "guns_2018 = guns_2018.rename(columns={'0': 'state', 0: '2018'})\n",
    "guns_2018.index = guns_2018['state'].str.title().replace(state_abbreviations)\n",
    "guns_2018 = guns_2018.drop(columns=['level_0', 'state'])\n",
    "guns_2018 = guns_2018.drop(['Guam', 'Total'])\n",
    "guns_2018.head()"
   ]
  },
  {
   "cell_type": "markdown",
   "id": "2aba3773",
   "metadata": {},
   "source": [
    "# 2019"
   ]
  },
  {
   "cell_type": "code",
   "execution_count": 37,
   "id": "41436357",
   "metadata": {},
   "outputs": [
    {
     "data": {
      "text/html": [
       "<div>\n",
       "<style scoped>\n",
       "    .dataframe tbody tr th:only-of-type {\n",
       "        vertical-align: middle;\n",
       "    }\n",
       "\n",
       "    .dataframe tbody tr th {\n",
       "        vertical-align: top;\n",
       "    }\n",
       "\n",
       "    .dataframe thead th {\n",
       "        text-align: right;\n",
       "    }\n",
       "</style>\n",
       "<table border=\"1\" class=\"dataframe\">\n",
       "  <thead>\n",
       "    <tr style=\"text-align: right;\">\n",
       "      <th></th>\n",
       "      <th>2019</th>\n",
       "    </tr>\n",
       "    <tr>\n",
       "      <th>state</th>\n",
       "      <th></th>\n",
       "    </tr>\n",
       "  </thead>\n",
       "  <tbody>\n",
       "    <tr>\n",
       "      <th>AL</th>\n",
       "      <td>15348.0</td>\n",
       "    </tr>\n",
       "    <tr>\n",
       "      <th>AK</th>\n",
       "      <td>2266.0</td>\n",
       "    </tr>\n",
       "    <tr>\n",
       "      <th>AZ</th>\n",
       "      <td>17966.0</td>\n",
       "    </tr>\n",
       "    <tr>\n",
       "      <th>AR</th>\n",
       "      <td>7032.0</td>\n",
       "    </tr>\n",
       "    <tr>\n",
       "      <th>CA</th>\n",
       "      <td>83766.0</td>\n",
       "    </tr>\n",
       "  </tbody>\n",
       "</table>\n",
       "</div>"
      ],
      "text/plain": [
       "          2019\n",
       "state         \n",
       "AL     15348.0\n",
       "AK      2266.0\n",
       "AZ     17966.0\n",
       "AR      7032.0\n",
       "CA     83766.0"
      ]
     },
     "execution_count": 37,
     "metadata": {},
     "output_type": "execute_result"
    }
   ],
   "source": [
    "guns_2019 = pd.DataFrame(types.loc[:, ['2019']].sum()).reset_index()\n",
    "guns_2019 = guns_2019.rename(columns={'0': 'state', 0: '2019'})\n",
    "guns_2019.index = guns_2019['state'].str.title().replace(state_abbreviations)\n",
    "guns_2019 = guns_2019.drop(columns=['level_0', 'state'])\n",
    "guns_2019 = guns_2019.drop(['Guam & Northern Mariana Islands', 'Total'])\n",
    "guns_2019.head()"
   ]
  },
  {
   "cell_type": "markdown",
   "id": "9637831c",
   "metadata": {},
   "source": [
    "# 2020"
   ]
  },
  {
   "cell_type": "code",
   "execution_count": 38,
   "id": "866188f0",
   "metadata": {},
   "outputs": [
    {
     "data": {
      "text/html": [
       "<div>\n",
       "<style scoped>\n",
       "    .dataframe tbody tr th:only-of-type {\n",
       "        vertical-align: middle;\n",
       "    }\n",
       "\n",
       "    .dataframe tbody tr th {\n",
       "        vertical-align: top;\n",
       "    }\n",
       "\n",
       "    .dataframe thead th {\n",
       "        text-align: right;\n",
       "    }\n",
       "</style>\n",
       "<table border=\"1\" class=\"dataframe\">\n",
       "  <thead>\n",
       "    <tr style=\"text-align: right;\">\n",
       "      <th></th>\n",
       "      <th>2020</th>\n",
       "    </tr>\n",
       "    <tr>\n",
       "      <th>state</th>\n",
       "      <th></th>\n",
       "    </tr>\n",
       "  </thead>\n",
       "  <tbody>\n",
       "    <tr>\n",
       "      <th>AL</th>\n",
       "      <td>15840.0</td>\n",
       "    </tr>\n",
       "    <tr>\n",
       "      <th>AK</th>\n",
       "      <td>1690.0</td>\n",
       "    </tr>\n",
       "    <tr>\n",
       "      <th>AZ</th>\n",
       "      <td>22042.0</td>\n",
       "    </tr>\n",
       "    <tr>\n",
       "      <th>AR</th>\n",
       "      <td>6778.0</td>\n",
       "    </tr>\n",
       "    <tr>\n",
       "      <th>CA</th>\n",
       "      <td>90492.0</td>\n",
       "    </tr>\n",
       "  </tbody>\n",
       "</table>\n",
       "</div>"
      ],
      "text/plain": [
       "          2020\n",
       "state         \n",
       "AL     15840.0\n",
       "AK      1690.0\n",
       "AZ     22042.0\n",
       "AR      6778.0\n",
       "CA     90492.0"
      ]
     },
     "execution_count": 38,
     "metadata": {},
     "output_type": "execute_result"
    }
   ],
   "source": [
    "guns_2020 = pd.DataFrame(types.loc[:, ['2020']].sum()).reset_index()\n",
    "guns_2020 = guns_2020.rename(columns={'0': 'state', 0: '2020'})\n",
    "guns_2020.index = guns_2020['state'].str.title().replace(state_abbreviations)\n",
    "guns_2020 = guns_2020.drop(columns=['level_0', 'state'])\n",
    "guns_2020 = guns_2020.drop(['Guam & Northern Mariana Islands', 'Total'])\n",
    "guns_2020.head()"
   ]
  },
  {
   "cell_type": "markdown",
   "id": "2255acab",
   "metadata": {},
   "source": [
    "# 2021"
   ]
  },
  {
   "cell_type": "code",
   "execution_count": 39,
   "id": "a84e6dcc",
   "metadata": {},
   "outputs": [
    {
     "data": {
      "text/html": [
       "<div>\n",
       "<style scoped>\n",
       "    .dataframe tbody tr th:only-of-type {\n",
       "        vertical-align: middle;\n",
       "    }\n",
       "\n",
       "    .dataframe tbody tr th {\n",
       "        vertical-align: top;\n",
       "    }\n",
       "\n",
       "    .dataframe thead th {\n",
       "        text-align: right;\n",
       "    }\n",
       "</style>\n",
       "<table border=\"1\" class=\"dataframe\">\n",
       "  <thead>\n",
       "    <tr style=\"text-align: right;\">\n",
       "      <th></th>\n",
       "      <th>2021</th>\n",
       "    </tr>\n",
       "    <tr>\n",
       "      <th>state</th>\n",
       "      <th></th>\n",
       "    </tr>\n",
       "  </thead>\n",
       "  <tbody>\n",
       "    <tr>\n",
       "      <th>AL</th>\n",
       "      <td>17694.0</td>\n",
       "    </tr>\n",
       "    <tr>\n",
       "      <th>AK</th>\n",
       "      <td>1594.0</td>\n",
       "    </tr>\n",
       "    <tr>\n",
       "      <th>AZ</th>\n",
       "      <td>24226.0</td>\n",
       "    </tr>\n",
       "    <tr>\n",
       "      <th>AR</th>\n",
       "      <td>7082.0</td>\n",
       "    </tr>\n",
       "    <tr>\n",
       "      <th>CA</th>\n",
       "      <td>108676.0</td>\n",
       "    </tr>\n",
       "  </tbody>\n",
       "</table>\n",
       "</div>"
      ],
      "text/plain": [
       "           2021\n",
       "state          \n",
       "AL      17694.0\n",
       "AK       1594.0\n",
       "AZ      24226.0\n",
       "AR       7082.0\n",
       "CA     108676.0"
      ]
     },
     "execution_count": 39,
     "metadata": {},
     "output_type": "execute_result"
    }
   ],
   "source": [
    "guns_2021 = pd.DataFrame(types.loc[:, ['2021']].sum()).reset_index()\n",
    "guns_2021 = guns_2021.rename(columns={'0': 'state', 0: '2021'})\n",
    "guns_2021.index = guns_2021['state'].str.title().replace(state_abbreviations)\n",
    "guns_2021 = guns_2021.drop(columns=['level_0', 'state'])\n",
    "guns_2021 = guns_2021.drop(['Guam & Northern Mariana Islands', 'Total'])\n",
    "guns_2021.head()"
   ]
  },
  {
   "cell_type": "markdown",
   "id": "31306652",
   "metadata": {},
   "source": [
    "# 2022"
   ]
  },
  {
   "cell_type": "code",
   "execution_count": 40,
   "id": "24750ac9",
   "metadata": {},
   "outputs": [
    {
     "data": {
      "text/html": [
       "<div>\n",
       "<style scoped>\n",
       "    .dataframe tbody tr th:only-of-type {\n",
       "        vertical-align: middle;\n",
       "    }\n",
       "\n",
       "    .dataframe tbody tr th {\n",
       "        vertical-align: top;\n",
       "    }\n",
       "\n",
       "    .dataframe thead th {\n",
       "        text-align: right;\n",
       "    }\n",
       "</style>\n",
       "<table border=\"1\" class=\"dataframe\">\n",
       "  <thead>\n",
       "    <tr style=\"text-align: right;\">\n",
       "      <th></th>\n",
       "      <th>2022</th>\n",
       "    </tr>\n",
       "    <tr>\n",
       "      <th>state</th>\n",
       "      <th></th>\n",
       "    </tr>\n",
       "  </thead>\n",
       "  <tbody>\n",
       "    <tr>\n",
       "      <th>AL</th>\n",
       "      <td>21038.0</td>\n",
       "    </tr>\n",
       "    <tr>\n",
       "      <th>AK</th>\n",
       "      <td>2400.0</td>\n",
       "    </tr>\n",
       "    <tr>\n",
       "      <th>AZ</th>\n",
       "      <td>28038.0</td>\n",
       "    </tr>\n",
       "    <tr>\n",
       "      <th>AR</th>\n",
       "      <td>6988.0</td>\n",
       "    </tr>\n",
       "    <tr>\n",
       "      <th>CA</th>\n",
       "      <td>112524.0</td>\n",
       "    </tr>\n",
       "  </tbody>\n",
       "</table>\n",
       "</div>"
      ],
      "text/plain": [
       "           2022\n",
       "state          \n",
       "AL      21038.0\n",
       "AK       2400.0\n",
       "AZ      28038.0\n",
       "AR       6988.0\n",
       "CA     112524.0"
      ]
     },
     "execution_count": 40,
     "metadata": {},
     "output_type": "execute_result"
    }
   ],
   "source": [
    "guns_2022 = pd.DataFrame(types.loc[:, ['2022']].sum()).reset_index()\n",
    "guns_2022 = guns_2022.rename(columns={'0': 'state', 0: '2022'})\n",
    "guns_2022.index = guns_2022['state'].str.title().replace(state_abbreviations)\n",
    "guns_2022 = guns_2022.drop(columns=['level_0', 'state'])\n",
    "guns_2022 = guns_2022.drop(['Guam & Northern Mariana Islands', 'Total'])\n",
    "guns_2022.head()"
   ]
  },
  {
   "cell_type": "markdown",
   "id": "b03a61b7",
   "metadata": {},
   "source": [
    "# 2017-2022"
   ]
  },
  {
   "cell_type": "code",
   "execution_count": 41,
   "id": "055cb651",
   "metadata": {},
   "outputs": [
    {
     "data": {
      "text/html": [
       "<div>\n",
       "<style scoped>\n",
       "    .dataframe tbody tr th:only-of-type {\n",
       "        vertical-align: middle;\n",
       "    }\n",
       "\n",
       "    .dataframe tbody tr th {\n",
       "        vertical-align: top;\n",
       "    }\n",
       "\n",
       "    .dataframe thead th {\n",
       "        text-align: right;\n",
       "    }\n",
       "</style>\n",
       "<table border=\"1\" class=\"dataframe\">\n",
       "  <thead>\n",
       "    <tr style=\"text-align: right;\">\n",
       "      <th></th>\n",
       "      <th>2017</th>\n",
       "      <th>2018</th>\n",
       "      <th>2019</th>\n",
       "      <th>2020</th>\n",
       "      <th>2021</th>\n",
       "      <th>2022</th>\n",
       "      <th>2017-2022</th>\n",
       "    </tr>\n",
       "    <tr>\n",
       "      <th>state</th>\n",
       "      <th></th>\n",
       "      <th></th>\n",
       "      <th></th>\n",
       "      <th></th>\n",
       "      <th></th>\n",
       "      <th></th>\n",
       "      <th></th>\n",
       "    </tr>\n",
       "  </thead>\n",
       "  <tbody>\n",
       "    <tr>\n",
       "      <th>AL</th>\n",
       "      <td>13332.0</td>\n",
       "      <td>13024.0</td>\n",
       "      <td>15348.0</td>\n",
       "      <td>15840.0</td>\n",
       "      <td>17694.0</td>\n",
       "      <td>21038.0</td>\n",
       "      <td>96276.0</td>\n",
       "    </tr>\n",
       "    <tr>\n",
       "      <th>AK</th>\n",
       "      <td>2150.0</td>\n",
       "      <td>2020.0</td>\n",
       "      <td>2266.0</td>\n",
       "      <td>1690.0</td>\n",
       "      <td>1594.0</td>\n",
       "      <td>2400.0</td>\n",
       "      <td>12120.0</td>\n",
       "    </tr>\n",
       "    <tr>\n",
       "      <th>AZ</th>\n",
       "      <td>13276.0</td>\n",
       "      <td>16502.0</td>\n",
       "      <td>17966.0</td>\n",
       "      <td>22042.0</td>\n",
       "      <td>24226.0</td>\n",
       "      <td>28038.0</td>\n",
       "      <td>122050.0</td>\n",
       "    </tr>\n",
       "    <tr>\n",
       "      <th>AR</th>\n",
       "      <td>3050.0</td>\n",
       "      <td>4630.0</td>\n",
       "      <td>7032.0</td>\n",
       "      <td>6778.0</td>\n",
       "      <td>7082.0</td>\n",
       "      <td>6988.0</td>\n",
       "      <td>35560.0</td>\n",
       "    </tr>\n",
       "    <tr>\n",
       "      <th>CA</th>\n",
       "      <td>83054.0</td>\n",
       "      <td>84976.0</td>\n",
       "      <td>83766.0</td>\n",
       "      <td>90492.0</td>\n",
       "      <td>108676.0</td>\n",
       "      <td>112524.0</td>\n",
       "      <td>563488.0</td>\n",
       "    </tr>\n",
       "  </tbody>\n",
       "</table>\n",
       "</div>"
      ],
      "text/plain": [
       "          2017     2018     2019     2020      2021      2022  2017-2022\n",
       "state                                                                   \n",
       "AL     13332.0  13024.0  15348.0  15840.0   17694.0   21038.0    96276.0\n",
       "AK      2150.0   2020.0   2266.0   1690.0    1594.0    2400.0    12120.0\n",
       "AZ     13276.0  16502.0  17966.0  22042.0   24226.0   28038.0   122050.0\n",
       "AR      3050.0   4630.0   7032.0   6778.0    7082.0    6988.0    35560.0\n",
       "CA     83054.0  84976.0  83766.0  90492.0  108676.0  112524.0   563488.0"
      ]
     },
     "execution_count": 41,
     "metadata": {},
     "output_type": "execute_result"
    }
   ],
   "source": [
    "guns = pd.concat([guns_2017, guns_2018, guns_2019, guns_2020, guns_2021, guns_2022], axis=1)\n",
    "guns['2017-2022'] = guns.sum(axis=1)\n",
    "guns.head()"
   ]
  },
  {
   "cell_type": "markdown",
   "id": "d63996ed",
   "metadata": {},
   "source": [
    "# Number of Guns by State (2017-2022)"
   ]
  },
  {
   "cell_type": "code",
   "execution_count": 42,
   "id": "35c20699",
   "metadata": {},
   "outputs": [
    {
     "data": {
      "image/png": "[encoded data removed]",
      "text/plain": [
       "<IPython.core.display.Image object>"
      ]
     },
     "execution_count": 42,
     "metadata": {},
     "output_type": "execute_result"
    }
   ],
   "source": [
    "guns_fig = go.Figure(data=go.Choropleth(locations=guns.index, \n",
    "                                        z=guns['2017-2022'], \n",
    "                                        locationmode='USA-states', \n",
    "                                        colorscale='Reds',\n",
    "                                        colorbar_title='Number of Guns'))\n",
    "\n",
    "guns_fig.update_layout(title_text='Number of Guns by State (2017-2022)', \n",
    "                       geo_scope='usa')\n",
    "\n",
    "img_bytes = guns_fig.to_image(format='png')\n",
    "Image(img_bytes)"
   ]
  },
  {
   "cell_type": "markdown",
   "id": "b6347a64",
   "metadata": {},
   "source": [
    "# States Dashboard"
   ]
  },
  {
   "cell_type": "code",
   "execution_count": 43,
   "id": "b4f8578b",
   "metadata": {},
   "outputs": [
    {
     "name": "stdout",
     "output_type": "stream",
     "text": [
      "Dash app running on http://127.0.0.1:8050/\n"
     ]
    },
    {
     "data": {
      "application/javascript": [
       "window.open('http://127.0.0.1:8050/')"
      ],
      "text/plain": [
       "<IPython.core.display.Javascript object>"
      ]
     },
     "metadata": {},
     "output_type": "display_data"
    }
   ],
   "source": [
    "app = Dash(__name__)\n",
    "\n",
    "app.layout = html.Div([\n",
    "    html.H1('States'),\n",
    "              \n",
    "    html.Div([dcc.Dropdown(['Number of Mass Shootings', \n",
    "                            'Number of Shooting Victims', \n",
    "                            'Shooting Victims Killed', \n",
    "                            'Shooting Victims Injured', \n",
    "                            'Number of Guns'], \n",
    "                            'Number of Mass Shootings', \n",
    "                            id='graph_selection')]),\n",
    "    \n",
    "    html.Div([dcc.Dropdown(['2017-2022', '2017', '2018', '2019', '2020', '2021', '2022'], \n",
    "                            '2017-2022', id='year_selection')]),\n",
    "        \n",
    "    html.Div([dcc.Graph(figure=state_incidents_fig, id='graph')])\n",
    "])\n",
    "\n",
    "@callback(\n",
    "    Output('graph', 'figure'),\n",
    "    Input('graph_selection', 'value'), \n",
    "    Input('year_selection', 'value'))\n",
    "\n",
    "def update_graph(graph, year):\n",
    "    if graph == 'Number of Mass Shootings':\n",
    "        state_incidents_fig = go.Figure(data=go.Choropleth(locations=state_incidents.index, \n",
    "                                                   z=state_incidents[year], \n",
    "                                                   locationmode='USA-states', \n",
    "                                                   colorscale='Reds',\n",
    "                                                   colorbar_title='Number of Shootings'))\n",
    "        state_incidents_fig.update_layout(title_text='Number of Mass Shootings by State (' + year + ')', \n",
    "                                  geo_scope='usa')\n",
    "        fig = state_incidents_fig\n",
    "    \n",
    "    if graph == 'Number of Shooting Victims':\n",
    "        state_victims_fig = go.Figure(data=go.Choropleth(locations=state_victims.index, \n",
    "                                                 z=state_victims[year], \n",
    "                                                 locationmode='USA-states', \n",
    "                                                 colorscale='Reds',\n",
    "                                                 colorbar_title='Number of Victims'))\n",
    "        state_victims_fig.update_layout(title_text='Number of Shooting Victims by State (' + year + ')', \n",
    "                                geo_scope='usa')\n",
    "        fig = state_victims_fig\n",
    "        \n",
    "    if graph == 'Shooting Victims Killed':\n",
    "        victims_killed_fig = go.Figure(data=go.Choropleth(locations=victims_killed.index, \n",
    "                                                  z=victims_killed[year], \n",
    "                                                  locationmode='USA-states', \n",
    "                                                  colorscale='Reds',\n",
    "                                                  colorbar_title='Number of Victims'))\n",
    "        victims_killed_fig.update_layout(title_text='Shooting Victims Killed by State (' + year + ')', \n",
    "                                 geo_scope='usa')\n",
    "        fig = victims_killed_fig\n",
    "        \n",
    "    if graph == 'Shooting Victims Injured':\n",
    "        victims_injured_fig = go.Figure(data=go.Choropleth(locations=victims_injured.index, \n",
    "                                                   z=victims_injured[year], \n",
    "                                                   locationmode='USA-states', \n",
    "                                                   colorscale='Reds',\n",
    "                                                   colorbar_title='Number of Victims'))\n",
    "        victims_injured_fig.update_layout(title_text='Shooting Victims Injured by State (' + year + ')', \n",
    "                                  geo_scope='usa')\n",
    "        fig = victims_injured_fig\n",
    "        \n",
    "    if graph == 'Number of Guns':\n",
    "        guns_fig = go.Figure(data=go.Choropleth(locations=guns.index, \n",
    "                                        z=guns[year], \n",
    "                                        locationmode='USA-states', \n",
    "                                        colorscale='Reds',\n",
    "                                        colorbar_title='Number of Guns'))\n",
    "\n",
    "        guns_fig.update_layout(title_text='Number of Guns by State (' + year + ')', \n",
    "                       geo_scope='usa')\n",
    "        fig = guns_fig\n",
    "\n",
    "    return fig\n",
    "\n",
    "app.run(jupyter_mode='tab')"
   ]
  },
  {
   "cell_type": "code",
   "execution_count": null,
   "id": "7c29bcf1",
   "metadata": {},
   "outputs": [],
   "source": []
  }
 ],
 "metadata": {
  "kernelspec": {
   "display_name": "Python 3 (ipykernel)",
   "language": "python",
   "name": "python3"
  },
  "language_info": {
   "codemirror_mode": {
    "name": "ipython",
    "version": 3
   },
   "file_extension": ".py",
   "mimetype": "text/x-python",
   "name": "python",
   "nbconvert_exporter": "python",
   "pygments_lexer": "ipython3",
   "version": "3.9.13"
  }
 },
 "nbformat": 4,
 "nbformat_minor": 5
}
